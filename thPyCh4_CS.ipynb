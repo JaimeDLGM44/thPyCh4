{
 "cells": [
  {
   "cell_type": "markdown",
   "metadata": {},
   "source": [
    "## Chapter 4 - Case Study: interface design  \n",
    "This chapter presents a case study that demonstrates a process for designing functions that work together.  \n",
    "\n",
    "It also uses the turtle module, which creates images using turtle graphics.  It should be installed with Python but if you have trouble running \"import turtle\", let me know"
   ]
  },
  {
   "cell_type": "code",
   "execution_count": 2,
   "metadata": {},
   "outputs": [],
   "source": [
    "import thPyCh4Script"
   ]
  },
  {
   "cell_type": "code",
   "execution_count": 1,
   "metadata": {},
   "outputs": [
    {
     "name": "stdout",
     "output_type": "stream",
     "text": [
      "<turtle.RawTurtle object at 0x7fc030433df0>\n"
     ]
    }
   ],
   "source": [
    "import turtle\n",
    "## the text uses the following line (which works in many python environments, but not so well in Jupyter!)\n",
    "#bob = turtle.Turtle()\n",
    "## so instead, use this:\n",
    "#scr=turtle.Screen()\n",
    "#bob=turtle.RawTurtle(scr)\n",
    "#you may need to Force Quit close the pop-up if it won't close using the standard method\n",
    "# you may also need to restart the kernel after each run :(\n",
    "#print(bob)\n",
    "\n",
    "\n",
    "#bob.fd(100)\n",
    "# another way is .forward(100) to do the same thing if you don't like the abbreviation\n",
    "#bob.forward(100)\n",
    "\n",
    "#fd is a method (a function of an object) but uses slightly different syntax - dot notation\n",
    "\n",
    "#having this at the end this should make the closing of the window work more reliably... but you'll still\n",
    "#likely need to restart the kernel from Jupyter\n",
    "#turtle.mainloop()\n",
    "#quit()"
   ]
  },
  {
   "cell_type": "code",
   "execution_count": null,
   "metadata": {},
   "outputs": [],
   "source": []
  },
  {
   "cell_type": "code",
   "execution_count": null,
   "metadata": {},
   "outputs": [],
   "source": []
  }
 ],
 "metadata": {
  "kernelspec": {
   "display_name": "Python 3",
   "language": "python",
   "name": "python3"
  },
  "language_info": {
   "codemirror_mode": {
    "name": "ipython",
    "version": 3
   },
   "file_extension": ".py",
   "mimetype": "text/x-python",
   "name": "python",
   "nbconvert_exporter": "python",
   "pygments_lexer": "ipython3",
   "version": "3.8.3"
  }
 },
 "nbformat": 4,
 "nbformat_minor": 4
}
